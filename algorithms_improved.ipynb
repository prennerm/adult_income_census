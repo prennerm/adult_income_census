{
 "cells": [
  {
   "cell_type": "markdown",
   "metadata": {},
   "source": [
    "### Comparison between different algorithms without improvements\n",
    "\n",
    "* Load the preprocessed data\n",
    "* Select the desired sample size\n",
    "* Use different ML algorithms\n",
    "* Save results for comparison with basic versions\n",
    "* Compare **all** results via plot"
   ]
  },
  {
   "cell_type": "code",
   "execution_count": 32,
   "metadata": {},
   "outputs": [],
   "source": [
    "# import all libraries used in \"algorithm_comparisons.ipynb\"\n",
    "import numpy as np\n",
    "import pandas as pd\n",
    "import matplotlib.pyplot as plt\n",
    "from sklearn.neural_network import MLPClassifier\n",
    "from xgboost import XGBClassifier\n",
    "from sklearn.ensemble import RandomForestClassifier\n",
    "from sklearn.metrics import accuracy_score, precision_score, recall_score, f1_score, confusion_matrix, classification_report\n",
    "from sklearn.model_selection import GridSearchCV, train_test_split\n",
    "from imblearn.over_sampling import SMOTE\n",
    "from imblearn.pipeline import Pipeline"
   ]
  },
  {
   "cell_type": "code",
   "execution_count": 33,
   "metadata": {},
   "outputs": [],
   "source": [
    "# load \"preprocessed_df.csv\"\n",
    "df = pd.read_csv(\"preprocessed_df.csv\")"
   ]
  },
  {
   "cell_type": "code",
   "execution_count": 34,
   "metadata": {},
   "outputs": [],
   "source": [
    "sample_size = 0.05  # change if necessary\n",
    "\n",
    "# Zufällige Stichprobenauswahl\n",
    "df_sample = df.sample(frac=sample_size, random_state=42)\n",
    "\n",
    "# Teilen Sie die Stichprobe in Trainings- und Testsets\n",
    "X_sample = df_sample.drop('income', axis=1)\n",
    "y_sample = df_sample['income']\n",
    "\n",
    "X_train, X_test, y_train, y_test = train_test_split(X_sample, y_sample, test_size=0.2, random_state=42)"
   ]
  },
  {
   "cell_type": "code",
   "execution_count": 35,
   "metadata": {},
   "outputs": [
    {
     "name": "stdout",
     "output_type": "stream",
     "text": [
      "Fitting 3 folds for each of 16 candidates, totalling 48 fits\n",
      "Beste Parameter: {'mlp__activation': 'relu', 'mlp__hidden_layer_sizes': (50,), 'mlp__learning_rate_init': 0.001, 'smote__sampling_strategy': 0.75}\n"
     ]
    }
   ],
   "source": [
    "# best mlp classifier\n",
    "\n",
    "mlp_pipeline = Pipeline([\n",
    "    ('smote', SMOTE(random_state=42)),\n",
    "    ('mlp', MLPClassifier(random_state=42))\n",
    "])\n",
    "\n",
    "# Definition des Gitters von Hyperparametern\n",
    "mlp_param_grid = {\n",
    "    'smote__sampling_strategy': [0.75, 1.0],\n",
    "    'mlp__hidden_layer_sizes': [(50,), (100,)],\n",
    "    'mlp__activation': ['relu', 'tanh'],\n",
    "    'mlp__learning_rate_init': [0.001, 0.01]\n",
    "}\n",
    "\n",
    "# Initialisierung von GridSearchCV\n",
    "mlp_grid_search = GridSearchCV(estimator=mlp_pipeline, param_grid=mlp_param_grid, cv=3, scoring='f1', n_jobs=-1, verbose=2)\n",
    "\n",
    "# Ausführen von GridSearchCV\n",
    "mlp_grid_search.fit(X_train, y_train)\n",
    "\n",
    "# Beste Parameter anzeigen\n",
    "print(\"Beste Parameter:\", mlp_grid_search.best_params_)\n",
    "\n",
    "# Bewertung auf dem Testset\n",
    "best_mlp = mlp_grid_search.best_estimator_\n",
    "y_pred_mlp = best_mlp.predict(X_test)"
   ]
  },
  {
   "cell_type": "code",
   "execution_count": 36,
   "metadata": {},
   "outputs": [
    {
     "name": "stdout",
     "output_type": "stream",
     "text": [
      "Accuracy: 0.832\n",
      "Precision: 0.6277113767153608\n",
      "Recall: 0.7381572097865695\n",
      "F1-Score: 0.6784688995215311\n"
     ]
    }
   ],
   "source": [
    "# Metriken berechnen\n",
    "accuracy_mlp_improved = accuracy_score(y_test, y_pred_mlp)\n",
    "precision_mlp_improved = precision_score(y_test, y_pred_mlp, zero_division=0)\n",
    "recall_mlp_improved = recall_score(y_test, y_pred_mlp, zero_division=0)\n",
    "f1_mlp_improved = f1_score(y_test, y_pred_mlp, zero_division=0)\n",
    "\n",
    "print(f\"Accuracy: {accuracy_mlp_improved}\")\n",
    "print(f\"Precision: {precision_mlp_improved}\")\n",
    "print(f\"Recall: {recall_mlp_improved}\")\n",
    "print(f\"F1-Score: {f1_mlp_improved}\")"
   ]
  },
  {
   "cell_type": "code",
   "execution_count": 37,
   "metadata": {},
   "outputs": [
    {
     "name": "stdout",
     "output_type": "stream",
     "text": [
      "Fitting 3 folds for each of 160 candidates, totalling 480 fits\n"
     ]
    },
    {
     "name": "stdout",
     "output_type": "stream",
     "text": [
      "Beste Parameter: {'smote__sampling_strategy': 0.75, 'xgb__colsample_bytree': 0.8, 'xgb__learning_rate': 0.1, 'xgb__max_depth': 6, 'xgb__n_estimators': 100, 'xgb__subsample': 0.8}\n"
     ]
    }
   ],
   "source": [
    "# best xgboost classifier\n",
    "\n",
    "xgb_pipeline = Pipeline([\n",
    "    ('smote', SMOTE(random_state=42)),\n",
    "    ('xgb', XGBClassifier(use_label_encoder=False, eval_metric='logloss', random_state=42))\n",
    "])\n",
    "\n",
    "# Definition des Gitters von Hyperparametern\n",
    "xgb_param_grid = {\n",
    "    'smote__sampling_strategy': [0.75, 1.0],\n",
    "    'xgb__n_estimators': [100, 200],\n",
    "    'xgb__max_depth': [3, 6, 10, 15, 20],\n",
    "    'xgb__learning_rate': [0.01, 0.1],\n",
    "    'xgb__subsample': [0.8, 1.0],\n",
    "    'xgb__colsample_bytree': [0.8, 1.0]\n",
    "}\n",
    "\n",
    "# Initialisierung von GridSearchCV\n",
    "xgb_grid_search = GridSearchCV(estimator=xgb_pipeline, param_grid=xgb_param_grid, cv=3, scoring='f1', n_jobs=-1, verbose=2)\n",
    "\n",
    "# Ausführen von GridSearchCV\n",
    "xgb_grid_search.fit(X_train, y_train)\n",
    "\n",
    "# Beste Parameter anzeigen\n",
    "print(\"Beste Parameter:\", xgb_grid_search.best_params_)\n",
    "\n",
    "# Bewertung auf dem Testset\n",
    "best_xgb = xgb_grid_search.best_estimator_\n",
    "y_pred_xgb = best_xgb.predict(X_test)"
   ]
  },
  {
   "cell_type": "code",
   "execution_count": 38,
   "metadata": {},
   "outputs": [
    {
     "name": "stdout",
     "output_type": "stream",
     "text": [
      "Accuracy: 0.84825\n",
      "Precision: 0.6591625393966681\n",
      "Recall: 0.7621030713170224\n",
      "F1-Score: 0.7069048768710767\n"
     ]
    }
   ],
   "source": [
    "# Metriken berechnen\n",
    "accuracy_xgb_improved = accuracy_score(y_test, y_pred_xgb)\n",
    "precision_xgb_improved = precision_score(y_test, y_pred_xgb, zero_division=0)\n",
    "recall_xgb_improved = recall_score(y_test, y_pred_xgb, zero_division=0)\n",
    "f1_xgb_improved = f1_score(y_test, y_pred_xgb, zero_division=0)\n",
    "\n",
    "print(f\"Accuracy: {accuracy_xgb_improved}\")\n",
    "print(f\"Precision: {precision_xgb_improved}\")\n",
    "print(f\"Recall: {recall_xgb_improved}\")\n",
    "print(f\"F1-Score: {f1_xgb_improved}\")"
   ]
  },
  {
   "cell_type": "code",
   "execution_count": 39,
   "metadata": {},
   "outputs": [
    {
     "name": "stdout",
     "output_type": "stream",
     "text": [
      "Fitting 3 folds for each of 128 candidates, totalling 384 fits\n"
     ]
    },
    {
     "name": "stdout",
     "output_type": "stream",
     "text": [
      "Beste Parameter: {'rf__max_depth': 20, 'rf__max_features': 'log2', 'rf__min_samples_leaf': 2, 'rf__min_samples_split': 5, 'rf__n_estimators': 200, 'smote__sampling_strategy': 0.75}\n"
     ]
    }
   ],
   "source": [
    "# best random forest\n",
    "rf_pipeline = Pipeline([\n",
    "    ('smote', SMOTE(random_state=42)),\n",
    "    ('rf', RandomForestClassifier(random_state=42))\n",
    "])\n",
    "\n",
    "# Definition des Gitters von Hyperparametern\n",
    "rf_param_grid = {\n",
    "    'smote__sampling_strategy': [0.75, 1.0],\n",
    "    'rf__n_estimators': [100, 200],\n",
    "    'rf__max_depth': [5, 10, 20, None],\n",
    "    'rf__min_samples_split': [2, 5],\n",
    "    'rf__min_samples_leaf': [1, 2],\n",
    "    'rf__max_features': ['sqrt', 'log2']\n",
    "}\n",
    "\n",
    "# Initialisierung von GridSearchCV\n",
    "rf_grid_search = GridSearchCV(estimator=rf_pipeline, param_grid=rf_param_grid, cv=3, scoring='f1', n_jobs=-1, verbose=2)\n",
    "\n",
    "# Ausführen von GridSearchCV\n",
    "rf_grid_search.fit(X_train, y_train)\n",
    "\n",
    "# Beste Parameter anzeigen\n",
    "print(\"Beste Parameter:\", rf_grid_search.best_params_)\n",
    "\n",
    "# Bewertung auf dem Testset\n",
    "best_rf = rf_grid_search.best_estimator_\n",
    "y_pred_rf = best_rf.predict(X_test)"
   ]
  },
  {
   "cell_type": "code",
   "execution_count": 40,
   "metadata": {},
   "outputs": [
    {
     "name": "stdout",
     "output_type": "stream",
     "text": [
      "Accuracy: 0.838\n",
      "Precision: 0.6349892008639308\n",
      "Recall: 0.7652264445601249\n",
      "F1-Score: 0.6940509915014164\n"
     ]
    }
   ],
   "source": [
    "# Metriken berechnen\n",
    "accuracy_rf_improved = accuracy_score(y_test, y_pred_rf)\n",
    "precision_rf_improved = precision_score(y_test, y_pred_rf, zero_division=0)\n",
    "recall_rf_improved = recall_score(y_test, y_pred_rf, zero_division=0)\n",
    "f1_rf_improved = f1_score(y_test, y_pred_rf, zero_division=0)\n",
    "\n",
    "print(f\"Accuracy: {accuracy_rf_improved}\")\n",
    "print(f\"Precision: {precision_rf_improved}\")\n",
    "print(f\"Recall: {recall_rf_improved}\")\n",
    "print(f\"F1-Score: {f1_rf_improved}\")"
   ]
  },
  {
   "cell_type": "code",
   "execution_count": 42,
   "metadata": {},
   "outputs": [
    {
     "data": {
      "image/png": "[encoded data removed]",
      "text/plain": [
       "<Figure size 1500x800 with 1 Axes>"
      ]
     },
     "metadata": {},
     "output_type": "display_data"
    }
   ],
   "source": [
    "# Erstellen eines Dictionarys mit den Ergebnissen\n",
    "results = {\n",
    "    \"Model\": [\"MLP\", \"XGB\", \"RF\"],\n",
    "    'accuracy': [accuracy_mlp_improved, accuracy_xgb_improved, accuracy_rf_improved],\n",
    "    'precision': [precision_mlp_improved, precision_xgb_improved, precision_rf_improved],\n",
    "    'recall': [recall_mlp_improved, recall_xgb_improved, recall_rf_improved],\n",
    "    'f1': [f1_mlp_improved, f1_xgb_improved, f1_rf_improved]\n",
    "}\n",
    "\n",
    "# Erstellen eines DataFrames mit den Ergebnissen\n",
    "df_results = pd.DataFrame(results)\n",
    "\n",
    "# Plot erstellen\n",
    "\n",
    "plt.figure(figsize=(15, 8))\n",
    "\n",
    "# Anzahl der Modelle\n",
    "n_models = len(df_results)\n",
    "\n",
    "# Erstelle den Balkendiagramm-Index\n",
    "index = np.arange(n_models)\n",
    "\n",
    "# Balkenbreite\n",
    "bar_width = 0.2\n",
    "\n",
    "# Erstelle Balken für jede Metrik\n",
    "plt.bar(index, df_results['accuracy'], bar_width, alpha=opacity, color='b', label='Accuracy')\n",
    "plt.bar(index + bar_width, df_results['precision'], bar_width, alpha=opacity, color='r', label='Precision')\n",
    "plt.bar(index + 2 * bar_width, df_results['recall'], bar_width, alpha=opacity, color='g', label='Recall')\n",
    "plt.bar(index + 3 * bar_width, df_results['f1'], bar_width, alpha=opacity, color='y', label='F1-Score')\n",
    "\n",
    "plt.xlabel('Model')\n",
    "plt.ylabel('Scores')\n",
    "plt.title('Model Performance Comparison - Improved Algorithms')\n",
    "plt.xticks(index + 1.5 * bar_width, df_results['Model'])\n",
    "plt.legend(loc='lower left')\n",
    "\n",
    "# Optional: Füge Textlabels über jedem Balken hinzu\n",
    "for i in index:\n",
    "    plt.text(x=i - 0.05, y=df_results['accuracy'][i] + 0.02, s=f\"{df_results['accuracy'][i]:.2f}\", size=9)\n",
    "    plt.text(x=i + bar_width - 0.05, y=df_results['precision'][i] + 0.02, s=f\"{df_results['precision'][i]:.2f}\", size=9)\n",
    "    plt.text(x=i + 2 * bar_width - 0.05, y=df_results['recall'][i] + 0.02, s=f\"{df_results['recall'][i]:.2f}\", size=9)\n",
    "    plt.text(x=i + 3 * bar_width - 0.05, y=df_results['f1'][i] + 0.02, s=f\"{df_results['f1'][i]:.2f}\", size=9)\n",
    "\n",
    "plt.tight_layout()\n",
    "plt.show()\n"
   ]
  },
  {
   "cell_type": "markdown",
   "metadata": {},
   "source": [
    "Since the attempts shown in this notebook are less successfull than the ones in \"algorithms_comparisons.ipynb\" I will stop here and continue improving \"algorithm_comparisons.ipynb\"."
   ]
  }
 ],
 "metadata": {
  "kernelspec": {
   "display_name": "fml",
   "language": "python",
   "name": "python3"
  },
  "language_info": {
   "codemirror_mode": {
    "name": "ipython",
    "version": 3
   },
   "file_extension": ".py",
   "mimetype": "text/x-python",
   "name": "python",
   "nbconvert_exporter": "python",
   "pygments_lexer": "ipython3",
   "version": "3.11.7"
  }
 },
 "nbformat": 4,
 "nbformat_minor": 2
}
