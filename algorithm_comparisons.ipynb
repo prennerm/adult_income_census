{
 "cells": [
  {
   "cell_type": "code",
   "execution_count": 77,
   "metadata": {},
   "outputs": [
    {
     "data": {
      "text/plain": [
       "\"import pandas as pd\\ndf_bank_a = pd.read_csv('data/BankA.csv')\\ndf_bank_b = pd.read_csv('data/BankB.csv')\\ndf_bank_c = pd.read_csv('data/BankC.csv')\\ndf_all = pd.concat([df_bank_a, df_bank_b, df_bank_c])\""
      ]
     },
     "execution_count": 77,
     "metadata": {},
     "output_type": "execute_result"
    }
   ],
   "source": [
    "\"\"\"import pandas as pd\n",
    "df_bank_a = pd.read_csv('data/BankA.csv')\n",
    "df_bank_b = pd.read_csv('data/BankB.csv')\n",
    "df_bank_c = pd.read_csv('data/BankC.csv')\n",
    "df_all = pd.concat([df_bank_a, df_bank_b, df_bank_c])\"\"\""
   ]
  },
  {
   "cell_type": "code",
   "execution_count": 78,
   "metadata": {},
   "outputs": [
    {
     "data": {
      "text/plain": [
       "'# strip all string values from the dataset\\ndf = df_all.apply(lambda x: x.str.strip() if x.dtype == \"object\" else x)\\n# combine Never-worked and Without-pay into one category\\ndf[\\'workclass\\'] = df[\\'workclass\\'].replace([\\'Never-worked\\', \\'Without-pay\\'], \\'Not-working\\')\\ndf[\\'workclass\\'] = df[\\'workclass\\'].replace([\\'?\\', \\'*\\'], \\'unknown\\')\\ndf[\\'workclass\\'].unique()'"
      ]
     },
     "execution_count": 78,
     "metadata": {},
     "output_type": "execute_result"
    }
   ],
   "source": [
    "\"\"\"# strip all string values from the dataset\n",
    "df = df_all.apply(lambda x: x.str.strip() if x.dtype == \"object\" else x)\n",
    "# combine Never-worked and Without-pay into one category\n",
    "df['workclass'] = df['workclass'].replace(['Never-worked', 'Without-pay'], 'Not-working')\n",
    "df['workclass'] = df['workclass'].replace(['?', '*'], 'unknown')\n",
    "df['workclass'].unique()\"\"\""
   ]
  },
  {
   "cell_type": "code",
   "execution_count": 79,
   "metadata": {},
   "outputs": [
    {
     "data": {
      "text/plain": [
       "\"# combine Married-civ-spouse and Married-AF-spouse into one category\\ndf['marital-status'] = df['marital-status'].replace(['Married-civ-spouse', 'Married-AF-spouse'], 'Married')\\ndf['marital-status'].unique()\\n# combine Husband and Wife into one category\\ndf['relationship'] = df['relationship'].replace(['Husband', 'Wife'], 'Parent')\\ndf['relationship'].unique()\""
      ]
     },
     "execution_count": 79,
     "metadata": {},
     "output_type": "execute_result"
    }
   ],
   "source": [
    "\"\"\"# combine Married-civ-spouse and Married-AF-spouse into one category\n",
    "df['marital-status'] = df['marital-status'].replace(['Married-civ-spouse', 'Married-AF-spouse'], 'Married')\n",
    "df['marital-status'].unique()\n",
    "# combine Husband and Wife into one category\n",
    "df['relationship'] = df['relationship'].replace(['Husband', 'Wife'], 'Parent')\n",
    "df['relationship'].unique()\"\"\""
   ]
  },
  {
   "cell_type": "code",
   "execution_count": 80,
   "metadata": {},
   "outputs": [
    {
     "data": {
      "text/plain": [
       "\"# replace income by 0 and 1\\ndf['income'] = df['income'].map({'<=50K': 0, '>50K': 1})\""
      ]
     },
     "execution_count": 80,
     "metadata": {},
     "output_type": "execute_result"
    }
   ],
   "source": [
    "\"\"\"# replace income by 0 and 1\n",
    "df['income'] = df['income'].map({'<=50K': 0, '>50K': 1})\"\"\""
   ]
  },
  {
   "cell_type": "markdown",
   "metadata": {},
   "source": [
    "Occupation möglicherweise für NN besser als one hot encoded, später vergleichen"
   ]
  },
  {
   "cell_type": "code",
   "execution_count": 81,
   "metadata": {},
   "outputs": [
    {
     "data": {
      "text/plain": [
       "\"# replace occupation by 4 categories (low, medium, high, unknown) based on the mean of income\\ndf['occupation'] = df['occupation'].replace(['Exec-managerial', 'Prof-specialty'], 'high')\\ndf['occupation'] = df['occupation'].replace(['Armed-Forces', 'Protective-serv', 'Tech-support', 'Sales', 'Craft-repair', 'Transport-moving'], 'medium')\\ndf['occupation'] = df['occupation'].replace(['Adm-clerical', 'Machine-op-inspct', 'Farming-fishing', 'Handlers-cleaners', 'Other-service', 'Priv-house-serv'], 'low')\\ndf['occupation'] = df['occupation'].replace(['?'], 'unknown')\\ndf['occupation'].unique()\""
      ]
     },
     "execution_count": 81,
     "metadata": {},
     "output_type": "execute_result"
    }
   ],
   "source": [
    "\"\"\"# replace occupation by 4 categories (low, medium, high, unknown) based on the mean of income\n",
    "df['occupation'] = df['occupation'].replace(['Exec-managerial', 'Prof-specialty'], 'high')\n",
    "df['occupation'] = df['occupation'].replace(['Armed-Forces', 'Protective-serv', 'Tech-support', 'Sales', 'Craft-repair', 'Transport-moving'], 'medium')\n",
    "df['occupation'] = df['occupation'].replace(['Adm-clerical', 'Machine-op-inspct', 'Farming-fishing', 'Handlers-cleaners', 'Other-service', 'Priv-house-serv'], 'low')\n",
    "df['occupation'] = df['occupation'].replace(['?'], 'unknown')\n",
    "df['occupation'].unique()\"\"\""
   ]
  },
  {
   "cell_type": "code",
   "execution_count": 82,
   "metadata": {},
   "outputs": [
    {
     "data": {
      "text/plain": [
       "\"# map native-country to continents\\ndf['native-country'] = df['native-country'].str.strip()\\ndf['native-country'] = df['native-country'].replace(['United-States', 'Puerto-Rico', 'Canada', 'Outlying-US(Guam-USVI-etc)', 'Cuba', 'Jamaica', 'Mexico', 'Dominican-Republic', 'El-Salvador', 'Guatemala', 'Haiti', 'Honduras', 'Nicaragua', 'Trinadad&Tobago', 'Peru', 'Ecuador', 'Columbia', 'Honduras', 'Haiti', 'Guatemala', 'El-Salvador', 'Dominican-Republic', 'Columbia', 'Ecuador', 'Peru', 'Jamaica', 'Mexico', 'Puerto-Rico', 'Cuba', 'Outlying-US(Guam-USVI-etc)', 'Canada', 'United-States'], 'North-America')\\ndf['native-country'] = df['native-country'].replace(['Germany', 'England', 'Italy', 'Poland', 'Portugal', 'Ireland', 'France', 'Yugoslavia', 'Scotland', 'Greece', 'Hungary', 'Holand-Netherlands'], 'Europe')\\ndf['native-country'] = df['native-country'].replace(['Philippines', 'India', 'China', 'Japan', 'Vietnam', 'Taiwan', 'Iran', 'Thailand', 'Hong', 'Cambodia', 'Laos'], 'Asia')\\ndf['native-country'] = df['native-country'].replace(['South', 'Columbia', 'Ecuador', 'Peru'], 'South-America')\\ndf['native-country'] = df['native-country'].replace(['Trinadad&Tobago', 'Honduras', 'Haiti', 'Guatemala', 'El-Salvador', 'Dominican-Republic', 'Columbia', 'Ecuador', 'Peru'], 'Central-America')\\ndf['native-country'] = df['native-country'].replace(['?', '*'], 'Unknown')\\ndf['native-country'].unique()\""
      ]
     },
     "execution_count": 82,
     "metadata": {},
     "output_type": "execute_result"
    }
   ],
   "source": [
    "\"\"\"# map native-country to continents\n",
    "df['native-country'] = df['native-country'].str.strip()\n",
    "df['native-country'] = df['native-country'].replace(['United-States', 'Puerto-Rico', 'Canada', 'Outlying-US(Guam-USVI-etc)', 'Cuba', 'Jamaica', 'Mexico', 'Dominican-Republic', 'El-Salvador', 'Guatemala', 'Haiti', 'Honduras', 'Nicaragua', 'Trinadad&Tobago', 'Peru', 'Ecuador', 'Columbia', 'Honduras', 'Haiti', 'Guatemala', 'El-Salvador', 'Dominican-Republic', 'Columbia', 'Ecuador', 'Peru', 'Jamaica', 'Mexico', 'Puerto-Rico', 'Cuba', 'Outlying-US(Guam-USVI-etc)', 'Canada', 'United-States'], 'North-America')\n",
    "df['native-country'] = df['native-country'].replace(['Germany', 'England', 'Italy', 'Poland', 'Portugal', 'Ireland', 'France', 'Yugoslavia', 'Scotland', 'Greece', 'Hungary', 'Holand-Netherlands'], 'Europe')\n",
    "df['native-country'] = df['native-country'].replace(['Philippines', 'India', 'China', 'Japan', 'Vietnam', 'Taiwan', 'Iran', 'Thailand', 'Hong', 'Cambodia', 'Laos'], 'Asia')\n",
    "df['native-country'] = df['native-country'].replace(['South', 'Columbia', 'Ecuador', 'Peru'], 'South-America')\n",
    "df['native-country'] = df['native-country'].replace(['Trinadad&Tobago', 'Honduras', 'Haiti', 'Guatemala', 'El-Salvador', 'Dominican-Republic', 'Columbia', 'Ecuador', 'Peru'], 'Central-America')\n",
    "df['native-country'] = df['native-country'].replace(['?', '*'], 'Unknown')\n",
    "df['native-country'].unique()\"\"\""
   ]
  },
  {
   "cell_type": "code",
   "execution_count": 83,
   "metadata": {},
   "outputs": [
    {
     "data": {
      "text/plain": [
       "\"df['education'] = df['education'].replace(['Preschool', '1st-4th', '5th-6th', '7th-8th', '9th', '10th', '11th', '12th'], 'school')\\ndf['education'] = df['education'].replace(['Assoc-voc', 'Assoc-acdm', 'Prof-school', 'Some-college'], 'higher')\\ndf['education'].unique()\""
      ]
     },
     "execution_count": 83,
     "metadata": {},
     "output_type": "execute_result"
    }
   ],
   "source": [
    "\"\"\"df['education'] = df['education'].replace(['Preschool', '1st-4th', '5th-6th', '7th-8th', '9th', '10th', '11th', '12th'], 'school')\n",
    "df['education'] = df['education'].replace(['Assoc-voc', 'Assoc-acdm', 'Prof-school', 'Some-college'], 'higher')\n",
    "df['education'].unique()\"\"\""
   ]
  },
  {
   "cell_type": "markdown",
   "metadata": {},
   "source": [
    "auch für fnlwgt gilt: möglicherweise für NN brauchbar"
   ]
  },
  {
   "cell_type": "code",
   "execution_count": 84,
   "metadata": {},
   "outputs": [],
   "source": [
    "# Drop the fnlwgt column\n",
    "#df.drop(['fnlwgt'], axis=1, inplace=True)"
   ]
  },
  {
   "cell_type": "code",
   "execution_count": 85,
   "metadata": {},
   "outputs": [
    {
     "data": {
      "text/plain": [
       "'categorical_columns = df.select_dtypes(include=[\\'object\\']).columns\\n \\nfor column in df[categorical_columns].columns:\\n    print(f\"Column: {column}\")\\n    print(df[column].value_counts())\\n    print(\"\\n\" + \"=\"*30 + \"\\n\")'"
      ]
     },
     "execution_count": 85,
     "metadata": {},
     "output_type": "execute_result"
    }
   ],
   "source": [
    "\"\"\"categorical_columns = df.select_dtypes(include=['object']).columns\n",
    " \n",
    "for column in df[categorical_columns].columns:\n",
    "    print(f\"Column: {column}\")\n",
    "    print(df[column].value_counts())\n",
    "    print(\"\\n\" + \"=\"*30 + \"\\n\")\"\"\""
   ]
  },
  {
   "cell_type": "code",
   "execution_count": 86,
   "metadata": {},
   "outputs": [
    {
     "data": {
      "text/plain": [
       "\"# drop institute column\\ndf_all = df.drop(['institute'], axis=1)\\ndf_bank_a = df[df['institute'] == 'Bank A']\\ndf_bank_b = df[df['institute'] == 'Bank B']\\ndf_bank_c = df[df['institute'] == 'Bank C']\\n\""
      ]
     },
     "execution_count": 86,
     "metadata": {},
     "output_type": "execute_result"
    }
   ],
   "source": [
    "\"\"\"# drop institute column\n",
    "df_all = df.drop(['institute'], axis=1)\n",
    "df_bank_a = df[df['institute'] == 'Bank A']\n",
    "df_bank_b = df[df['institute'] == 'Bank B']\n",
    "df_bank_c = df[df['institute'] == 'Bank C']\n",
    "\"\"\""
   ]
  },
  {
   "cell_type": "code",
   "execution_count": 87,
   "metadata": {},
   "outputs": [
    {
     "data": {
      "text/plain": [
       "'\\n# encode the categorical variables\\ndf = pd.get_dummies(df_all, drop_first=True)\\n'"
      ]
     },
     "execution_count": 87,
     "metadata": {},
     "output_type": "execute_result"
    }
   ],
   "source": [
    "\"\"\"\n",
    "# encode the categorical variables\n",
    "df = pd.get_dummies(df_all, drop_first=True)\n",
    "\"\"\""
   ]
  },
  {
   "cell_type": "code",
   "execution_count": 110,
   "metadata": {},
   "outputs": [],
   "source": [
    "import pandas as pd\n",
    "#import sklearn\n",
    "from sklearn.model_selection import train_test_split\n",
    "#import neural network\n",
    "from sklearn.neural_network import MLPClassifier\n",
    "#import metrics\n",
    "from sklearn.metrics import accuracy_score, precision_score, recall_score, f1_score, confusion_matrix, classification_report\n",
    "from imblearn.over_sampling import SMOTE"
   ]
  },
  {
   "cell_type": "code",
   "execution_count": 89,
   "metadata": {},
   "outputs": [],
   "source": [
    "# load the preprocessed dataset\n",
    "df = pd.read_csv('preprocessed_df.csv')"
   ]
  },
  {
   "cell_type": "code",
   "execution_count": 90,
   "metadata": {},
   "outputs": [],
   "source": [
    "sample_size = 0.05  # change if necessary\n",
    "\n",
    "# Zufällige Stichprobenauswahl\n",
    "df_sample = df.sample(frac=sample_size, random_state=42)\n",
    "\n",
    "# Teilen Sie die Stichprobe in Trainings- und Testsets\n",
    "X_sample = df_sample.drop('income', axis=1)\n",
    "y_sample = df_sample['income']\n",
    "\n",
    "X_train, X_test, y_train, y_test = train_test_split(X_sample, y_sample, test_size=0.2, random_state=42)\n"
   ]
  },
  {
   "cell_type": "code",
   "execution_count": 91,
   "metadata": {},
   "outputs": [],
   "source": [
    "# Initialisierung des MLP-Klassifikators\n",
    "mlp = MLPClassifier(hidden_layer_sizes=(50, 30), max_iter=300, activation='relu', solver='adam', random_state=42)\n",
    "\n",
    "# Training des Modells\n",
    "mlp.fit(X_train, y_train)\n",
    "\n",
    "# Vorhersagen auf dem Testset\n",
    "y_pred_mlp_base = mlp.predict(X_test)\n",
    "\n",
    "\"\"\"# Bewertung des Modells\n",
    "print(\"Accuracy:\", accuracy_score(y_test, y_pred_mlp_base))\n",
    "print(\"Precision:\", precision_score(y_test, y_pred_mlp_base))\n",
    "print(\"Recall:\", recall_score(y_test, y_pred_mlp_base))\n",
    "print(\"F1-Score:\", f1_score(y_test, y_pred_mlp_base))\n",
    "print(\"\\nClassification Report:\\n\", classification_report(y_test, y_pred_mlp_base))\n",
    "print(\"\\nConfusion Matrix:\\n\", confusion_matrix(y_test, y_pred_mlp_base))\n",
    "\"\"\"\n",
    "accuracy_mlp_baseline = accuracy_score(y_test, y_pred_mlp_base)\n",
    "precision_mlp_baseline = precision_score(y_test, y_pred_mlp_base)\n",
    "recall_mlp_baseline = recall_score(y_test, y_pred_mlp_base)\n",
    "f1_mlp_baseline = f1_score(y_test, y_pred_mlp_base)\n"
   ]
  },
  {
   "cell_type": "code",
   "execution_count": null,
   "metadata": {},
   "outputs": [],
   "source": [
    "# improve the dataset with SMOTE\n"
   ]
  },
  {
   "cell_type": "code",
   "execution_count": 92,
   "metadata": {},
   "outputs": [
    {
     "data": {
      "text/plain": [
       "'\\nprint(\"Accuracy:\", accuracy_score(y_test, y_pred_xgb_base))\\nprint(\"Precision:\", precision_score(y_test, y_pred_xgb_base))\\nprint(\"Recall:\", recall_score(y_test, y_pred_xgb_base))\\nprint(\"F1-Score:\", f1_score(y_test, y_pred_xgb_base))\\nprint(\"\\nClassification Report:\\n\", classification_report(y_test, y_pred_xgb_base))\\n'"
      ]
     },
     "execution_count": 92,
     "metadata": {},
     "output_type": "execute_result"
    }
   ],
   "source": [
    "# work with XGBClassifier\n",
    "from xgboost import XGBClassifier\n",
    "xgb = XGBClassifier(n_estimators=100, max_depth=3, learning_rate=0.1, random_state=42)\n",
    "xgb.fit(X_train, y_train)\n",
    "y_pred_xgb_base = xgb.predict(X_test)\n",
    "\"\"\"\n",
    "print(\"Accuracy:\", accuracy_score(y_test, y_pred_xgb_base))\n",
    "print(\"Precision:\", precision_score(y_test, y_pred_xgb_base))\n",
    "print(\"Recall:\", recall_score(y_test, y_pred_xgb_base))\n",
    "print(\"F1-Score:\", f1_score(y_test, y_pred_xgb_base))\n",
    "print(\"\\nClassification Report:\\n\", classification_report(y_test, y_pred_xgb_base))\n",
    "\"\"\""
   ]
  },
  {
   "cell_type": "code",
   "execution_count": 93,
   "metadata": {},
   "outputs": [],
   "source": [
    "\n",
    "accuracy_xgb_baseline = accuracy_score(y_test, y_pred_xgb_base)\n",
    "precision_xgb_baseline = precision_score(y_test, y_pred_xgb_base)\n",
    "recall_xgb_baseline = recall_score(y_test, y_pred_xgb_base)\n",
    "f1_xgb_baseline = f1_score(y_test, y_pred_xgb_base)"
   ]
  },
  {
   "cell_type": "code",
   "execution_count": 94,
   "metadata": {},
   "outputs": [
    {
     "name": "stdout",
     "output_type": "stream",
     "text": [
      "Fitting 3 folds for each of 81 candidates, totalling 243 fits\n",
      "Best Model Accuracy: 0.86425\n"
     ]
    }
   ],
   "source": [
    "from sklearn.model_selection import GridSearchCV\n",
    "\n",
    "# Definieren des Parametergitters\n",
    "param_grid = {\n",
    "    'max_depth': [3, 4, 5],\n",
    "    'learning_rate': [0.01, 0.1, 0.2],\n",
    "    'n_estimators': [50, 100, 200],\n",
    "    'subsample': [0.7, 0.8, 0.9]\n",
    "}\n",
    "\n",
    "# Initialisieren des XGBoost-Klassifikators\n",
    "xgb = XGBClassifier(random_state=42)\n",
    "\n",
    "# Initialisieren des Grid Search-Moduls\n",
    "grid_search = GridSearchCV(estimator=xgb, param_grid=param_grid, cv=3, n_jobs=-1, verbose=2)\n",
    "\n",
    "# Führen Sie die Grid Search auf den Trainingsdaten durch\n",
    "X_train, X_test, y_train, y_test = train_test_split(X_sample, y_sample, test_size=0.2, random_state=42)\n",
    "grid_search.fit(X_train, y_train)\n",
    "\n",
    "# Auswählen des besten Modells\n",
    "best_model = grid_search.best_estimator_\n",
    "\n",
    "# Bewertung des besten Modells\n",
    "best_model.fit(X_train, y_train)\n",
    "y_pred_xgb_tuned = best_model.predict(X_test)\n",
    "print(\"Best Model Accuracy:\", accuracy_score(y_test, y_pred_xgb_tuned))\n"
   ]
  },
  {
   "cell_type": "markdown",
   "metadata": {},
   "source": [
    "mit GridSearch kaum besser"
   ]
  },
  {
   "cell_type": "code",
   "execution_count": 95,
   "metadata": {},
   "outputs": [],
   "source": [
    "#new values for xgb\n",
    "accuracy_xgb_tuned = accuracy_score(y_test, y_pred_xgb_tuned)\n",
    "precision_xgb_tuned = precision_score(y_test, y_pred_xgb_tuned)\n",
    "recall_xgb_tuned = recall_score(y_test, y_pred_xgb_tuned)\n",
    "f1_xgb_tuned = f1_score(y_test, y_pred_xgb_tuned)"
   ]
  },
  {
   "cell_type": "code",
   "execution_count": 96,
   "metadata": {},
   "outputs": [],
   "source": [
    "# work with RandomForestClassifier\n",
    "from sklearn.ensemble import RandomForestClassifier\n",
    "rf = RandomForestClassifier(n_estimators=100, max_depth=3, random_state=42)\n",
    "rf.fit(X_train, y_train)\n",
    "y_pred_rf_base = rf.predict(X_test)\n",
    "\"\"\"\n",
    "print(\"Accuracy:\", accuracy_score(y_test, y_pred_rf_base))\n",
    "print(\"Precision:\", precision_score(y_test, y_pred_rf_base))\n",
    "print(\"Recall:\", recall_score(y_test, y_pred_rf_base))\n",
    "print(\"F1-Score:\", f1_score(y_test, y_pred_rf_base))\n",
    "print(\"\\nClassification Report:\\n\", classification_report(y_test, y_pred_rf_base))\n",
    "\"\"\"\n",
    "accuracy_rf_baseline = accuracy_score(y_test, y_pred_rf_base)\n",
    "precision_rf_baseline = precision_score(y_test, y_pred_rf_base)\n",
    "recall_rf_baseline = recall_score(y_test, y_pred_rf_base)\n",
    "f1_rf_baseline = f1_score(y_test, y_pred_rf_base)"
   ]
  },
  {
   "cell_type": "markdown",
   "metadata": {},
   "source": [
    "### Vergleich zwischen MLP, XGBoost und Random Forest Classifier\n",
    "Random Forest Ergebnisse\n",
    "Accuracy: 80,7%\n",
    "Precision für Klasse 1 (>50K Einkommen): 92,94%\n",
    "Recall für Klasse 1 (>50K Einkommen): 21,24%\n",
    "F1-Score für Klasse 1 (>50K Einkommen): 34,58%\n",
    "Vergleich mit früheren Modellen\n",
    "Accuracy:\n",
    "\n",
    "MLP: 83,59%\n",
    "XGBoost: 86,19%\n",
    "Random Forest: 80,7%\n",
    "Interpretation: Random Forest hat die niedrigste Gesamtgenauigkeit.\n",
    "Precision für Klasse 1 (>50K Einkommen):\n",
    "\n",
    "MLP: 73,71%\n",
    "XGBoost: 77,91%\n",
    "Random Forest: 92,94%\n",
    "Interpretation: Obwohl Random Forest eine sehr hohe Präzision aufweist, bedeutet dies, dass von den wenigen als >50K klassifizierten Fällen fast alle korrekt sind. Die geringe Anzahl an Vorhersagen für diese Klasse spiegelt sich im niedrigen Recall wider.\n",
    "Recall für Klasse 1 (>50K Einkommen):\n",
    "\n",
    "MLP: 49,19%\n",
    "XGBoost: 59,29%\n",
    "Random Forest: 21,24%\n",
    "Interpretation: Random Forest hat den niedrigsten Recall, was bedeutet, dass es einen großen Teil der tatsächlichen >50K Fälle verpasst.\n",
    "F1-Score für Klasse 1 (>50K Einkommen):\n",
    "\n",
    "MLP: 59,01%\n",
    "XGBoost: 67,34%\n",
    "Random Forest: 34,58%\n",
    "Interpretation: Der F1-Score von Random Forest ist deutlich niedriger als bei den anderen Modellen, was auf eine schlechte Balance zwischen Präzision und Recall hinweist."
   ]
  },
  {
   "cell_type": "code",
   "execution_count": 97,
   "metadata": {},
   "outputs": [
    {
     "name": "stdout",
     "output_type": "stream",
     "text": [
      "Accuracy: 0.7907276239536382\n",
      "Precision: 0.7280639431616341\n",
      "Recall: 0.8463762130910593\n",
      "F1-Score: 0.7827747541296667\n",
      "\n",
      "Classification Report:\n",
      "               precision    recall  f1-score   support\n",
      "\n",
      "           0       0.86      0.75      0.80      6028\n",
      "           1       0.73      0.85      0.78      4843\n",
      "\n",
      "    accuracy                           0.79     10871\n",
      "   macro avg       0.79      0.80      0.79     10871\n",
      "weighted avg       0.80      0.79      0.79     10871\n",
      "\n"
     ]
    }
   ],
   "source": [
    "# trying to improve via SMOTE\n",
    "from imblearn.over_sampling import SMOTE\n",
    "\n",
    "sm = SMOTE(sampling_strategy = 0.8, random_state=42)\n",
    "\n",
    "X_res, y_res = sm.fit_resample(X_sample, y_sample)\n",
    "X_train, X_test, y_train, y_test = train_test_split(X_res, y_res, test_size=0.2, random_state=42)\n",
    "rf = RandomForestClassifier(n_estimators=100, max_depth=3, random_state=42)\n",
    "rf.fit(X_train, y_train)\n",
    "y_pred_rf_smote = rf.predict(X_test)\n",
    "print(\"Accuracy:\", accuracy_score(y_test, y_pred_rf_smote))\n",
    "print(\"Precision:\", precision_score(y_test, y_pred_rf_smote))\n",
    "print(\"Recall:\", recall_score(y_test, y_pred_rf_smote))\n",
    "print(\"F1-Score:\", f1_score(y_test, y_pred_rf_smote))\n",
    "print(\"\\nClassification Report:\\n\", classification_report(y_test, y_pred_rf_smote))\n",
    "\n",
    "accuracy_rf_smote = accuracy_score(y_test, y_pred_rf_smote)\n",
    "precision_rf_smote = precision_score(y_test, y_pred_rf_smote)\n",
    "recall_rf_smote = recall_score(y_test, y_pred_rf_smote)\n",
    "f1_score_rf_smote = f1_score(y_test, y_pred_rf_smote)"
   ]
  },
  {
   "cell_type": "markdown",
   "metadata": {},
   "source": [
    "### Vergleich Random Forest ohne und mit Anwendung von SMOTE\n",
    "\n",
    "#### Vorherige Random Forest Ergebnisse (Ohne SMOTE)\n",
    "Accuracy: 80,7%\\\n",
    "Precision für Klasse 1 (>50K Einkommen): 92,94%\\\n",
    "Recall für Klasse 1 (>50K Einkommen): 21,24%\\\n",
    "F1-Score für Klasse 1 (>50K Einkommen): 34,58%\n",
    "\n",
    "#### Neue Random Forest Ergebnisse (Mit SMOTE)\n",
    "Accuracy: 79,47%\\\n",
    "Precision für Klasse 1 (>50K Einkommen): 75,89%\\\n",
    "Recall für Klasse 1 (>50K Einkommen): 87,09%\\\n",
    "F1-Score für Klasse 1 (>50K Einkommen): 81,11%\n",
    "\n",
    "#### Interpretation\n",
    "\n",
    "Accuracy:\n",
    "Die Gesamtgenauigkeit hat sich leicht verringert (von 80,7% auf 79,47%). Dies könnte auf eine höhere Fehlerrate bei der Klassifizierung von Beispielen der Mehrheitsklasse (<=50K Einkommen) zurückzuführen sein.\n",
    "\n",
    "Precision:\n",
    "Die Präzision für Klasse 1 ist gesunken (von 92,94% auf 75,89%). Dies bedeutet, dass ein höherer Anteil der als >50K klassifizierten Fälle tatsächlich <=50K sind.\n",
    "\n",
    "Recall:\n",
    "Der Recall für Klasse 1 hat sich dramatisch verbessert (von 21,24% auf 87,09%). Das bedeutet, dass das Modell jetzt einen viel größeren Anteil der tatsächlichen >50K Fälle korrekt identifiziert.\n",
    "\n",
    "F1-Score:\n",
    "Der F1-Score für Klasse 1 hat sich erheblich verbessert (von 34,58% auf 81,11%). Dies deutet auf eine deutlich bessere Balance zwischen Präzision und Recall hin.\n",
    "\n",
    "#### Zusammenfassung\n",
    "Die Anwendung von SMOTE hat zu einer deutlichen Verbesserung des Recalls und des F1-Scores für die Klasse 1 geführt, was auf eine effektivere Identifizierung von Fällen mit einem Einkommen von >50K hinweist. Die Verringerung der Präzision und der geringfügige Rückgang der Gesamtgenauigkeit könnten ein Zeichen dafür sein, dass das Modell nun eher geneigt ist, Fälle fälschlicherweise als >50K zu klassifizieren. Dies ist ein häufiger Kompromiss bei der Verbesserung des Recalls in ungleich verteilten Datensätzen."
   ]
  },
  {
   "cell_type": "code",
   "execution_count": 106,
   "metadata": {},
   "outputs": [
    {
     "data": {
      "image/png": "[encoded data removed]",
      "text/plain": [
       "<Figure size 1500x800 with 1 Axes>"
      ]
     },
     "metadata": {},
     "output_type": "display_data"
    }
   ],
   "source": [
    "# visual comparison of the results\n",
    "import pandas as pd\n",
    "import matplotlib.pyplot as plt\n",
    "import numpy as np\n",
    "\n",
    "# Angenommene gespeicherte Werte\n",
    "values_for_comparison = {\n",
    "    \"Model\": [\"MLP\", \"XGB Baseline\", \"XGB Tuned\", \"RF\", \"RF SMOTE\"],\n",
    "    \"Accuracy\": [accuracy_mlp_baseline, accuracy_xgb_baseline, accuracy_xgb_tuned, accuracy_rf_baseline, accuracy_rf_smote],\n",
    "    \"Precision\": [precision_mlp_baseline, precision_xgb_baseline, precision_xgb_tuned, precision_rf_baseline, precision_rf_smote],\n",
    "    \"Recall\": [recall_mlp_baseline, recall_xgb_baseline, recall_xgb_tuned, recall_rf_baseline, recall_rf_smote],\n",
    "    \"F1-Score\": [f1_mlp_baseline, f1_xgb_baseline, f1_xgb_tuned, f1_rf_baseline, f1_score_rf_smote]\n",
    "}\n",
    "\n",
    "df = pd.DataFrame(values_for_comparison)\n",
    "\n",
    "# Setze die Größe des Plots\n",
    "plt.figure(figsize=(15, 8))\n",
    "\n",
    "# Anzahl der Gruppen\n",
    "n_groups = len(df)\n",
    "\n",
    "# Erstelle den Balkendiagramm-Index\n",
    "index = np.arange(n_groups)\n",
    "\n",
    "# Balkenbreite\n",
    "bar_width = 0.2\n",
    "\n",
    "# Opazität der Balken\n",
    "opacity = 0.8\n",
    "\n",
    "# Erstelle Balken für jede Metrik\n",
    "plt.bar(index, df['Accuracy'], bar_width, alpha=opacity, color='b', label='Accuracy')\n",
    "plt.bar(index + bar_width, df['Precision'], bar_width, alpha=opacity, color='r', label='Precision')\n",
    "plt.bar(index + 2 * bar_width, df['Recall'], bar_width, alpha=opacity, color='g', label='Recall')\n",
    "plt.bar(index + 3 * bar_width, df['F1-Score'], bar_width, alpha=opacity, color='y', label='F1-Score')\n",
    "\n",
    "plt.xlabel('Model')\n",
    "plt.ylabel('Scores')\n",
    "plt.title('Model Performance Comparison')\n",
    "plt.xticks(index + bar_width, df['Model'])\n",
    "#add legend to the plot in bottom left corner\n",
    "plt.legend(loc='lower left')\n",
    "\n",
    "# Optional: Füge Textlabels über jedem Balken hinzu\n",
    "for i in index:\n",
    "    plt.text(x=i - 0.05, y=df['Accuracy'][i] + 0.02, s=f\"{df['Accuracy'][i]:.2f}\", size=9)\n",
    "    plt.text(x=i + bar_width - 0.05, y=df['Precision'][i] + 0.02, s=f\"{df['Precision'][i]:.2f}\", size=9)\n",
    "    plt.text(x=i + 2 * bar_width - 0.05, y=df['Recall'][i] + 0.02, s=f\"{df['Recall'][i]:.2f}\", size=9)\n",
    "    plt.text(x=i + 3 * bar_width - 0.05, y=df['F1-Score'][i] + 0.02, s=f\"{df['F1-Score'][i]:.2f}\", size=9)\n",
    "\n",
    "plt.tight_layout()\n",
    "plt.show()\n"
   ]
  },
  {
   "cell_type": "code",
   "execution_count": 99,
   "metadata": {},
   "outputs": [
    {
     "name": "stdout",
     "output_type": "stream",
     "text": [
      "Model ['MLP', 'XGB Baseline', 'XGB Tuned', 'RF', 'RF SMOTE']\n",
      "Accuracy [0.835875, 0.861875, 0.86425, 0.807, 0.7907276239536382]\n",
      "Precision [0.7371294851794071, 0.7790697674418605, 0.7702265372168284, 0.929384965831435, 0.7280639431616341]\n",
      "Recall [0.49193128578865175, 0.5929203539823009, 0.6194690265486725, 0.21238938053097345, 0.8463762130910593]\n",
      "F1-Score [0.5900718076802998, 0.6733668341708543, 0.6866705135603, 0.34576271186440677, 0.7827747541296667]\n"
     ]
    }
   ],
   "source": [
    "#print every value in results\n",
    "for key, value in values_for_comparison.items():\n",
    "    print(key, value)"
   ]
  },
  {
   "cell_type": "code",
   "execution_count": 100,
   "metadata": {},
   "outputs": [
    {
     "name": "stdout",
     "output_type": "stream",
     "text": [
      "    n_estimators  max_depth  sampling_strategy  accuracy  precision    recall  \\\n",
      "22           300       25.0                1.0  0.871861   0.831476  0.893454   \n",
      "16           200       25.0                1.0  0.871677   0.830521  0.894487   \n",
      "10           100       25.0                1.0  0.870665   0.829657  0.893042   \n",
      "4             50       25.0                1.0  0.869561   0.828128  0.892422   \n",
      "23           300        NaN                1.0  0.870757   0.843114  0.872187   \n",
      "17           200        NaN                1.0  0.870205   0.843200  0.870535   \n",
      "11           100        NaN                1.0  0.870021   0.843412  0.869709   \n",
      "5             50        NaN                1.0  0.870021   0.843825  0.869089   \n",
      "3             50       18.0                1.0  0.864686   0.817993  0.895519   \n",
      "21           300       18.0                1.0  0.863950   0.815336  0.897997   \n",
      "9            100       18.0                1.0  0.863858   0.816250  0.896139   \n",
      "15           200       18.0                1.0  0.863306   0.814385  0.897791   \n",
      "8            100       13.0                1.0  0.853095   0.797362  0.898617   \n",
      "14           200       13.0                1.0  0.852635   0.797394  0.897171   \n",
      "20           300       13.0                1.0  0.852359   0.796195  0.898617   \n",
      "2             50       13.0                1.0  0.852359   0.797282  0.896552   \n",
      "7            100       10.0                1.0  0.842793   0.782037  0.897171   \n",
      "1             50       10.0                1.0  0.842977   0.783135  0.895519   \n",
      "13           200       10.0                1.0  0.842425   0.782185  0.895726   \n",
      "19           300       10.0                1.0  0.842425   0.782185  0.895726   \n",
      "12           200        5.0                1.0  0.807285   0.730847  0.898204   \n",
      "6            100        5.0                1.0  0.806734   0.730343  0.897584   \n",
      "18           300        5.0                1.0  0.806825   0.731477  0.894900   \n",
      "0             50        5.0                1.0  0.804802   0.727851  0.897378   \n",
      "\n",
      "    f1_score  \n",
      "22  0.861352  \n",
      "16  0.861318  \n",
      "10  0.860183  \n",
      "4   0.859074  \n",
      "23  0.857404  \n",
      "17  0.856649  \n",
      "11  0.856359  \n",
      "5   0.856271  \n",
      "3   0.855002  \n",
      "21  0.854672  \n",
      "9   0.854331  \n",
      "15  0.854056  \n",
      "8   0.844967  \n",
      "14  0.844345  \n",
      "20  0.844311  \n",
      "2   0.844008  \n",
      "7   0.835657  \n",
      "1   0.835565  \n",
      "13  0.835114  \n",
      "19  0.835114  \n",
      "12  0.805929  \n",
      "6   0.805373  \n",
      "18  0.804978  \n",
      "0   0.803773  \n"
     ]
    }
   ],
   "source": [
    "# Vorbereitung der Trainings- und Testdaten\n",
    "#X_train, X_test, y_train, y_test = train_test_split(X, y, test_size=0.2, random_state=42)\n",
    "\n",
    "# Listen zur Speicherung der Ergebnisse\n",
    "results = []\n",
    "\n",
    "# Parameterbereiche\n",
    "n_estimators_range = [50, 100, 200, 300]\n",
    "max_depth_range = [5, 10, 13, 18, 25, None]\n",
    "sampling_strategy_range = [1.0]\n",
    "\n",
    "# Experimentieren mit Hyperparametern\n",
    "for n_estimators in n_estimators_range:\n",
    "    for max_depth in max_depth_range:\n",
    "        for sampling_strategy in sampling_strategy_range:\n",
    "            # SMOTE anwenden\n",
    "            sm = SMOTE(sampling_strategy=sampling_strategy, random_state=42)\n",
    "            X_res, y_res = sm.fit_resample(X_train, y_train)\n",
    "            \n",
    "            # RandomForestClassifier trainieren\n",
    "            rf = RandomForestClassifier(n_estimators=n_estimators, max_depth=max_depth, random_state=42)\n",
    "            rf.fit(X_res, y_res)\n",
    "            \n",
    "            # Vorhersagen und Leistung bewerten\n",
    "            y_pred = rf.predict(X_test)\n",
    "            accuracy = accuracy_score(y_test, y_pred)\n",
    "            precision = precision_score(y_test, y_pred, zero_division=0)\n",
    "            recall = recall_score(y_test, y_pred, zero_division=0)\n",
    "            f1 = f1_score(y_test, y_pred, zero_division=0)\n",
    "            \n",
    "            # Ergebnisse speichern\n",
    "            results.append({\n",
    "                'n_estimators': n_estimators,\n",
    "                'max_depth': max_depth,\n",
    "                'sampling_strategy': sampling_strategy,\n",
    "                'accuracy': accuracy,\n",
    "                'precision': precision,\n",
    "                'recall': recall,\n",
    "                'f1_score': f1\n",
    "            })\n",
    "\n",
    "# Ergebnisse in einem DataFrame speichern\n",
    "results_df = pd.DataFrame(results)\n",
    "\n",
    "# Ergebnisse sortieren, um die besten Konfigurationen zu sehen\n",
    "sorted_results_df = results_df.sort_values(by=['f1_score', 'recall', 'precision', 'accuracy'], ascending=False)\n",
    "print(sorted_results_df)\n"
   ]
  },
  {
   "cell_type": "code",
   "execution_count": 107,
   "metadata": {},
   "outputs": [
    {
     "name": "stdout",
     "output_type": "stream",
     "text": [
      "<class 'dict'>\n"
     ]
    }
   ],
   "source": [
    "print(type(values_for_comparison))"
   ]
  },
  {
   "cell_type": "code",
   "execution_count": 104,
   "metadata": {},
   "outputs": [
    {
     "name": "stdout",
     "output_type": "stream",
     "text": [
      "n_estimators         300.000000\n",
      "max_depth             25.000000\n",
      "sampling_strategy      1.000000\n",
      "accuracy               0.871861\n",
      "precision              0.831476\n",
      "recall                 0.893454\n",
      "f1_score               0.861352\n",
      "Name: 22, dtype: float64\n",
      "<class 'pandas.core.series.Series'>\n"
     ]
    }
   ],
   "source": [
    "best_rf_results = sorted_results_df.iloc[0]\n",
    "print(best_rf_results)\n",
    "print(type(best_rf_results))"
   ]
  },
  {
   "cell_type": "code",
   "execution_count": 108,
   "metadata": {},
   "outputs": [],
   "source": [
    "# create the plot again, with the latest results added\n",
    "best_rf_results = sorted_results_df.iloc[0]\n",
    "# Füge die besten RF-Ergebnisse zum Dictionary hinzu\n",
    "values_for_comparison[\"Model\"].append(\"RF Best\")\n",
    "values_for_comparison[\"Accuracy\"].append(best_rf_results['accuracy'])\n",
    "values_for_comparison[\"Precision\"].append(best_rf_results['precision'])\n",
    "values_for_comparison[\"Recall\"].append(best_rf_results['recall'])\n",
    "values_for_comparison[\"F1-Score\"].append(best_rf_results['f1_score'])\n"
   ]
  },
  {
   "cell_type": "code",
   "execution_count": 109,
   "metadata": {},
   "outputs": [
    {
     "data": {
      "image/png": "[encoded data removed]",
      "text/plain": [
       "<Figure size 1500x800 with 1 Axes>"
      ]
     },
     "metadata": {},
     "output_type": "display_data"
    }
   ],
   "source": [
    "df = pd.DataFrame(values_for_comparison)\n",
    "\n",
    "# Setze die Größe des Plots\n",
    "plt.figure(figsize=(15, 8))\n",
    "\n",
    "# Anzahl der Gruppen\n",
    "n_groups = len(df)\n",
    "\n",
    "# Erstelle den Balkendiagramm-Index\n",
    "index = np.arange(n_groups)\n",
    "\n",
    "# Balkenbreite\n",
    "bar_width = 0.2\n",
    "\n",
    "# Erstelle Balken für jede Metrik\n",
    "plt.bar(index, df['Accuracy'], bar_width, alpha=opacity, color='b', label='Accuracy')\n",
    "plt.bar(index + bar_width, df['Precision'], bar_width, alpha=opacity, color='r', label='Precision')\n",
    "plt.bar(index + 2 * bar_width, df['Recall'], bar_width, alpha=opacity, color='g', label='Recall')\n",
    "plt.bar(index + 3 * bar_width, df['F1-Score'], bar_width, alpha=opacity, color='y', label='F1-Score')\n",
    "\n",
    "plt.xlabel('Model')\n",
    "plt.ylabel('Scores')\n",
    "plt.title('Model Performance Comparison')\n",
    "plt.xticks(index + bar_width, df['Model'])\n",
    "plt.legend(loc='lower left')\n",
    "\n",
    "# Optional: Füge Textlabels über jedem Balken hinzu\n",
    "for i in index:\n",
    "    plt.text(x=i - 0.05, y=df['Accuracy'][i] + 0.02, s=f\"{df['Accuracy'][i]:.2f}\", size=9)\n",
    "    plt.text(x=i + bar_width - 0.05, y=df['Precision'][i] + 0.02, s=f\"{df['Precision'][i]:.2f}\", size=9)\n",
    "    plt.text(x=i + 2 * bar_width - 0.05, y=df['Recall'][i] + 0.02, s=f\"{df['Recall'][i]:.2f}\", size=9)\n",
    "    plt.text(x=i + 3 * bar_width - 0.05, y=df['F1-Score'][i] + 0.02, s=f\"{df['F1-Score'][i]:.2f}\", size=9)\n",
    "\n",
    "plt.tight_layout()\n",
    "plt.show()\n"
   ]
  }
 ],
 "metadata": {
  "kernelspec": {
   "display_name": "fml",
   "language": "python",
   "name": "python3"
  },
  "language_info": {
   "codemirror_mode": {
    "name": "ipython",
    "version": 3
   },
   "file_extension": ".py",
   "mimetype": "text/x-python",
   "name": "python",
   "nbconvert_exporter": "python",
   "pygments_lexer": "ipython3",
   "version": "3.11.7"
  }
 },
 "nbformat": 4,
 "nbformat_minor": 2
}
